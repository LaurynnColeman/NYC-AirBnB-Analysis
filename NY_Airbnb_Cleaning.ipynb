{
 "cells": [
  {
   "cell_type": "markdown",
   "metadata": {
    "id": "iJg89crIrZVZ"
   },
   "source": [
    "# Cleaning New York City AirBnB Dataset "
   ]
  },
  {
   "cell_type": "markdown",
   "metadata": {
    "id": "e8FyyK0urZOn"
   },
   "source": [
    "## 1. Import Libraries"
   ]
  },
  {
   "cell_type": "code",
   "execution_count": 1,
   "metadata": {
    "executionInfo": {
     "elapsed": 1839,
     "status": "ok",
     "timestamp": 1739990339361,
     "user": {
      "displayName": "Laurynn Coleman",
      "userId": "11156261408880543970"
     },
     "user_tz": 300
    },
    "id": "7lIfgNxzreYH"
   },
   "outputs": [],
   "source": [
    "# Import packages\n",
    "import pandas as pd\n",
    "import numpy as np\n",
    "import matplotlib.pyplot as plt\n",
    "import seaborn as sns"
   ]
  },
  {
   "cell_type": "code",
   "execution_count": 3,
   "metadata": {
    "colab": {
     "base_uri": "https://localhost:8080/",
     "height": 556
    },
    "executionInfo": {
     "elapsed": 733,
     "status": "ok",
     "timestamp": 1739990340097,
     "user": {
      "displayName": "Laurynn Coleman",
      "userId": "11156261408880543970"
     },
     "user_tz": 300
    },
    "id": "BlaxPmdkrj6H",
    "outputId": "e6c7bd8d-c64d-4601-b870-c297c6056370",
    "scrolled": true
   },
   "outputs": [
    {
     "data": {
      "text/html": [
       "<div>\n",
       "<style scoped>\n",
       "    .dataframe tbody tr th:only-of-type {\n",
       "        vertical-align: middle;\n",
       "    }\n",
       "\n",
       "    .dataframe tbody tr th {\n",
       "        vertical-align: top;\n",
       "    }\n",
       "\n",
       "    .dataframe thead th {\n",
       "        text-align: right;\n",
       "    }\n",
       "</style>\n",
       "<table border=\"1\" class=\"dataframe\">\n",
       "  <thead>\n",
       "    <tr style=\"text-align: right;\">\n",
       "      <th></th>\n",
       "      <th>id</th>\n",
       "      <th>name</th>\n",
       "      <th>host_id</th>\n",
       "      <th>host_name</th>\n",
       "      <th>neighbourhood_group</th>\n",
       "      <th>neighbourhood</th>\n",
       "      <th>latitude</th>\n",
       "      <th>longitude</th>\n",
       "      <th>room_type</th>\n",
       "      <th>price</th>\n",
       "      <th>minimum_nights</th>\n",
       "      <th>number_of_reviews</th>\n",
       "      <th>last_review</th>\n",
       "      <th>reviews_per_month</th>\n",
       "      <th>calculated_host_listings_count</th>\n",
       "      <th>availability_365</th>\n",
       "      <th>number_of_reviews_ltm</th>\n",
       "      <th>license</th>\n",
       "    </tr>\n",
       "  </thead>\n",
       "  <tbody>\n",
       "    <tr>\n",
       "      <th>0</th>\n",
       "      <td>2595</td>\n",
       "      <td>Skylit Midtown Castle Sanctuary</td>\n",
       "      <td>2845</td>\n",
       "      <td>Jennifer</td>\n",
       "      <td>Manhattan</td>\n",
       "      <td>Midtown</td>\n",
       "      <td>40.75356</td>\n",
       "      <td>-73.98559</td>\n",
       "      <td>Entire home/apt</td>\n",
       "      <td>240.0</td>\n",
       "      <td>30</td>\n",
       "      <td>49</td>\n",
       "      <td>2022-06-21</td>\n",
       "      <td>0.27</td>\n",
       "      <td>3</td>\n",
       "      <td>365</td>\n",
       "      <td>0</td>\n",
       "      <td>NaN</td>\n",
       "    </tr>\n",
       "    <tr>\n",
       "      <th>1</th>\n",
       "      <td>6848</td>\n",
       "      <td>Only 2 stops to Manhattan studio</td>\n",
       "      <td>15991</td>\n",
       "      <td>Allen &amp; Irina</td>\n",
       "      <td>Brooklyn</td>\n",
       "      <td>Williamsburg</td>\n",
       "      <td>40.70935</td>\n",
       "      <td>-73.95342</td>\n",
       "      <td>Entire home/apt</td>\n",
       "      <td>81.0</td>\n",
       "      <td>30</td>\n",
       "      <td>195</td>\n",
       "      <td>2024-10-05</td>\n",
       "      <td>1.03</td>\n",
       "      <td>1</td>\n",
       "      <td>196</td>\n",
       "      <td>4</td>\n",
       "      <td>NaN</td>\n",
       "    </tr>\n",
       "    <tr>\n",
       "      <th>2</th>\n",
       "      <td>6872</td>\n",
       "      <td>Uptown Sanctuary w/ Private Bath (Month to Month)</td>\n",
       "      <td>16104</td>\n",
       "      <td>Kahshanna</td>\n",
       "      <td>Manhattan</td>\n",
       "      <td>East Harlem</td>\n",
       "      <td>40.80107</td>\n",
       "      <td>-73.94255</td>\n",
       "      <td>Private room</td>\n",
       "      <td>65.0</td>\n",
       "      <td>30</td>\n",
       "      <td>1</td>\n",
       "      <td>2022-06-05</td>\n",
       "      <td>0.03</td>\n",
       "      <td>2</td>\n",
       "      <td>83</td>\n",
       "      <td>0</td>\n",
       "      <td>NaN</td>\n",
       "    </tr>\n",
       "    <tr>\n",
       "      <th>3</th>\n",
       "      <td>6990</td>\n",
       "      <td>UES Beautiful Blue Room</td>\n",
       "      <td>16800</td>\n",
       "      <td>Cyn</td>\n",
       "      <td>Manhattan</td>\n",
       "      <td>East Harlem</td>\n",
       "      <td>40.78778</td>\n",
       "      <td>-73.94759</td>\n",
       "      <td>Private room</td>\n",
       "      <td>70.0</td>\n",
       "      <td>30</td>\n",
       "      <td>251</td>\n",
       "      <td>2024-12-01</td>\n",
       "      <td>1.36</td>\n",
       "      <td>1</td>\n",
       "      <td>8</td>\n",
       "      <td>5</td>\n",
       "      <td>NaN</td>\n",
       "    </tr>\n",
       "    <tr>\n",
       "      <th>4</th>\n",
       "      <td>7064</td>\n",
       "      <td>Amazing location! Wburg. Large, bright &amp; tranquil</td>\n",
       "      <td>17297</td>\n",
       "      <td>Joelle</td>\n",
       "      <td>Brooklyn</td>\n",
       "      <td>Williamsburg</td>\n",
       "      <td>40.71248</td>\n",
       "      <td>-73.95881</td>\n",
       "      <td>Private room</td>\n",
       "      <td>NaN</td>\n",
       "      <td>30</td>\n",
       "      <td>13</td>\n",
       "      <td>2022-09-12</td>\n",
       "      <td>0.07</td>\n",
       "      <td>2</td>\n",
       "      <td>0</td>\n",
       "      <td>0</td>\n",
       "      <td>NaN</td>\n",
       "    </tr>\n",
       "  </tbody>\n",
       "</table>\n",
       "</div>"
      ],
      "text/plain": [
       "     id                                               name  host_id  \\\n",
       "0  2595                    Skylit Midtown Castle Sanctuary     2845   \n",
       "1  6848                   Only 2 stops to Manhattan studio    15991   \n",
       "2  6872  Uptown Sanctuary w/ Private Bath (Month to Month)    16104   \n",
       "3  6990                            UES Beautiful Blue Room    16800   \n",
       "4  7064  Amazing location! Wburg. Large, bright & tranquil    17297   \n",
       "\n",
       "       host_name neighbourhood_group neighbourhood  latitude  longitude  \\\n",
       "0       Jennifer           Manhattan       Midtown  40.75356  -73.98559   \n",
       "1  Allen & Irina            Brooklyn  Williamsburg  40.70935  -73.95342   \n",
       "2      Kahshanna           Manhattan   East Harlem  40.80107  -73.94255   \n",
       "3            Cyn           Manhattan   East Harlem  40.78778  -73.94759   \n",
       "4         Joelle            Brooklyn  Williamsburg  40.71248  -73.95881   \n",
       "\n",
       "         room_type  price  minimum_nights  number_of_reviews last_review  \\\n",
       "0  Entire home/apt  240.0              30                 49  2022-06-21   \n",
       "1  Entire home/apt   81.0              30                195  2024-10-05   \n",
       "2     Private room   65.0              30                  1  2022-06-05   \n",
       "3     Private room   70.0              30                251  2024-12-01   \n",
       "4     Private room    NaN              30                 13  2022-09-12   \n",
       "\n",
       "   reviews_per_month  calculated_host_listings_count  availability_365  \\\n",
       "0               0.27                               3               365   \n",
       "1               1.03                               1               196   \n",
       "2               0.03                               2                83   \n",
       "3               1.36                               1                 8   \n",
       "4               0.07                               2                 0   \n",
       "\n",
       "   number_of_reviews_ltm license  \n",
       "0                      0     NaN  \n",
       "1                      4     NaN  \n",
       "2                      0     NaN  \n",
       "3                      5     NaN  \n",
       "4                      0     NaN  "
      ]
     },
     "execution_count": 3,
     "metadata": {},
     "output_type": "execute_result"
    }
   ],
   "source": [
    "df = pd.read_csv('listings.csv')\n",
    "df.head()"
   ]
  },
  {
   "cell_type": "code",
   "execution_count": 4,
   "metadata": {
    "executionInfo": {
     "elapsed": 20,
     "status": "ok",
     "timestamp": 1739990340121,
     "user": {
      "displayName": "Laurynn Coleman",
      "userId": "11156261408880543970"
     },
     "user_tz": 300
    },
    "id": "mqAkAifyX5J-"
   },
   "outputs": [],
   "source": [
    "df_og = df.copy()"
   ]
  },
  {
   "cell_type": "code",
   "execution_count": 5,
   "metadata": {
    "colab": {
     "base_uri": "https://localhost:8080/"
    },
    "executionInfo": {
     "elapsed": 102,
     "status": "ok",
     "timestamp": 1739990340226,
     "user": {
      "displayName": "Laurynn Coleman",
      "userId": "11156261408880543970"
     },
     "user_tz": 300
    },
    "id": "50TjCM3nrj19",
    "outputId": "a44cbfa5-e60a-4a73-f830-7428e29ff4fb"
   },
   "outputs": [
    {
     "name": "stdout",
     "output_type": "stream",
     "text": [
      "<class 'pandas.core.frame.DataFrame'>\n",
      "RangeIndex: 37784 entries, 0 to 37783\n",
      "Data columns (total 18 columns):\n",
      " #   Column                          Non-Null Count  Dtype  \n",
      "---  ------                          --------------  -----  \n",
      " 0   id                              37784 non-null  int64  \n",
      " 1   name                            37782 non-null  object \n",
      " 2   host_id                         37784 non-null  int64  \n",
      " 3   host_name                       37778 non-null  object \n",
      " 4   neighbourhood_group             37784 non-null  object \n",
      " 5   neighbourhood                   37784 non-null  object \n",
      " 6   latitude                        37784 non-null  float64\n",
      " 7   longitude                       37784 non-null  float64\n",
      " 8   room_type                       37784 non-null  object \n",
      " 9   price                           22969 non-null  float64\n",
      " 10  minimum_nights                  37784 non-null  int64  \n",
      " 11  number_of_reviews               37784 non-null  int64  \n",
      " 12  last_review                     25892 non-null  object \n",
      " 13  reviews_per_month               25892 non-null  float64\n",
      " 14  calculated_host_listings_count  37784 non-null  int64  \n",
      " 15  availability_365                37784 non-null  int64  \n",
      " 16  number_of_reviews_ltm           37784 non-null  int64  \n",
      " 17  license                         5386 non-null   object \n",
      "dtypes: float64(4), int64(7), object(7)\n",
      "memory usage: 5.2+ MB\n"
     ]
    }
   ],
   "source": [
    "df.info()"
   ]
  },
  {
   "cell_type": "markdown",
   "metadata": {
    "id": "VsQByWixsM9j"
   },
   "source": [
    "#### Can already see that some of the columns have different counts than the rest.  "
   ]
  },
  {
   "cell_type": "code",
   "execution_count": 6,
   "metadata": {
    "executionInfo": {
     "elapsed": 40,
     "status": "ok",
     "timestamp": 1739990341506,
     "user": {
      "displayName": "Laurynn Coleman",
      "userId": "11156261408880543970"
     },
     "user_tz": 300
    },
    "id": "i1R4rAoBWj88"
   },
   "outputs": [],
   "source": [
    "# First, conversion of data types\n",
    "# 'price' is an object, most likely because of a '$' in the data\n",
    "df['price'] = df['price'].replace('[\\$,]', '', regex=True).astype(float)\n",
    "\n",
    "# 'last_review' should be a date\n",
    "df['last_review'] = pd.to_datetime(df['last_review'])"
   ]
  },
  {
   "cell_type": "code",
   "execution_count": 7,
   "metadata": {
    "colab": {
     "base_uri": "https://localhost:8080/",
     "height": 648
    },
    "executionInfo": {
     "elapsed": 43,
     "status": "ok",
     "timestamp": 1739990342229,
     "user": {
      "displayName": "Laurynn Coleman",
      "userId": "11156261408880543970"
     },
     "user_tz": 300
    },
    "id": "RCeftmVGrjzD",
    "outputId": "e9a9d0c2-7574-4386-cf39-02317fb8f2c4"
   },
   "outputs": [
    {
     "data": {
      "text/plain": [
       "id                                    0\n",
       "name                                  2\n",
       "host_id                               0\n",
       "host_name                             6\n",
       "neighbourhood_group                   0\n",
       "neighbourhood                         0\n",
       "latitude                              0\n",
       "longitude                             0\n",
       "room_type                             0\n",
       "price                             14815\n",
       "minimum_nights                        0\n",
       "number_of_reviews                     0\n",
       "last_review                       11892\n",
       "reviews_per_month                 11892\n",
       "calculated_host_listings_count        0\n",
       "availability_365                      0\n",
       "number_of_reviews_ltm                 0\n",
       "license                           32398\n",
       "dtype: int64"
      ]
     },
     "execution_count": 7,
     "metadata": {},
     "output_type": "execute_result"
    }
   ],
   "source": [
    "# Checking for null values\n",
    "df.isnull().sum()"
   ]
  },
  {
   "cell_type": "code",
   "execution_count": 8,
   "metadata": {
    "executionInfo": {
     "elapsed": 5,
     "status": "ok",
     "timestamp": 1739990344341,
     "user": {
      "displayName": "Laurynn Coleman",
      "userId": "11156261408880543970"
     },
     "user_tz": 300
    },
    "id": "Gjs9vRNwrjw6"
   },
   "outputs": [],
   "source": [
    "# Dropping rows where 'price' is missing due to it's importance in analysis\n",
    "df = df.dropna(subset=['price'])"
   ]
  },
  {
   "cell_type": "code",
   "execution_count": 9,
   "metadata": {
    "colab": {
     "base_uri": "https://localhost:8080/",
     "height": 648
    },
    "executionInfo": {
     "elapsed": 33,
     "status": "ok",
     "timestamp": 1739990344808,
     "user": {
      "displayName": "Laurynn Coleman",
      "userId": "11156261408880543970"
     },
     "user_tz": 300
    },
    "id": "U0m7Fwg2SEma",
    "outputId": "f03f9e7f-84f1-48c9-cbac-84a1eb45ccfb"
   },
   "outputs": [
    {
     "data": {
      "text/plain": [
       "id                                    0\n",
       "name                                  0\n",
       "host_id                               0\n",
       "host_name                             1\n",
       "neighbourhood_group                   0\n",
       "neighbourhood                         0\n",
       "latitude                              0\n",
       "longitude                             0\n",
       "room_type                             0\n",
       "price                                 0\n",
       "minimum_nights                        0\n",
       "number_of_reviews                     0\n",
       "last_review                        7052\n",
       "reviews_per_month                  7052\n",
       "calculated_host_listings_count        0\n",
       "availability_365                      0\n",
       "number_of_reviews_ltm                 0\n",
       "license                           18421\n",
       "dtype: int64"
      ]
     },
     "execution_count": 9,
     "metadata": {},
     "output_type": "execute_result"
    }
   ],
   "source": [
    "df.isnull().sum()"
   ]
  },
  {
   "cell_type": "code",
   "execution_count": 10,
   "metadata": {
    "executionInfo": {
     "elapsed": 112,
     "status": "ok",
     "timestamp": 1739990431266,
     "user": {
      "displayName": "Laurynn Coleman",
      "userId": "11156261408880543970"
     },
     "user_tz": 300
    },
    "id": "D_iovkmkrjrc"
   },
   "outputs": [],
   "source": [
    "#Fill 'host_name\" null with a placeholder\n",
    "df['host_name'] = df['host_name'].fillna('No Name')\n",
    "\n",
    "# Fill 'last_review' with a placeholder\n",
    "df['last_review'] = df['last_review'].fillna('No Reviews')\n",
    "\n",
    "# Fill 'reviews_per_month' with 0\n",
    "df['reviews_per_month'] = df['reviews_per_month'].fillna(0)\n",
    "\n",
    "# Fill 'license' with placeholder\n",
    "df['license'] = df['license'].fillna('No License')"
   ]
  },
  {
   "cell_type": "code",
   "execution_count": 11,
   "metadata": {
    "colab": {
     "base_uri": "https://localhost:8080/",
     "height": 556
    },
    "executionInfo": {
     "elapsed": 291,
     "status": "ok",
     "timestamp": 1739990433678,
     "user": {
      "displayName": "Laurynn Coleman",
      "userId": "11156261408880543970"
     },
     "user_tz": 300
    },
    "id": "aixT98QzgQdX",
    "outputId": "b3879899-c3ee-4238-c9bc-784be2faaeb2"
   },
   "outputs": [
    {
     "data": {
      "text/html": [
       "<div>\n",
       "<style scoped>\n",
       "    .dataframe tbody tr th:only-of-type {\n",
       "        vertical-align: middle;\n",
       "    }\n",
       "\n",
       "    .dataframe tbody tr th {\n",
       "        vertical-align: top;\n",
       "    }\n",
       "\n",
       "    .dataframe thead th {\n",
       "        text-align: right;\n",
       "    }\n",
       "</style>\n",
       "<table border=\"1\" class=\"dataframe\">\n",
       "  <thead>\n",
       "    <tr style=\"text-align: right;\">\n",
       "      <th></th>\n",
       "      <th>id</th>\n",
       "      <th>name</th>\n",
       "      <th>host_id</th>\n",
       "      <th>host_name</th>\n",
       "      <th>neighbourhood_group</th>\n",
       "      <th>neighbourhood</th>\n",
       "      <th>latitude</th>\n",
       "      <th>longitude</th>\n",
       "      <th>room_type</th>\n",
       "      <th>price</th>\n",
       "      <th>minimum_nights</th>\n",
       "      <th>number_of_reviews</th>\n",
       "      <th>last_review</th>\n",
       "      <th>reviews_per_month</th>\n",
       "      <th>calculated_host_listings_count</th>\n",
       "      <th>availability_365</th>\n",
       "      <th>number_of_reviews_ltm</th>\n",
       "      <th>license</th>\n",
       "    </tr>\n",
       "  </thead>\n",
       "  <tbody>\n",
       "    <tr>\n",
       "      <th>0</th>\n",
       "      <td>2595</td>\n",
       "      <td>Skylit Midtown Castle Sanctuary</td>\n",
       "      <td>2845</td>\n",
       "      <td>Jennifer</td>\n",
       "      <td>Manhattan</td>\n",
       "      <td>Midtown</td>\n",
       "      <td>40.75356</td>\n",
       "      <td>-73.98559</td>\n",
       "      <td>Entire home/apt</td>\n",
       "      <td>240.0</td>\n",
       "      <td>30</td>\n",
       "      <td>49</td>\n",
       "      <td>2022-06-21 00:00:00</td>\n",
       "      <td>0.27</td>\n",
       "      <td>3</td>\n",
       "      <td>365</td>\n",
       "      <td>0</td>\n",
       "      <td>No License</td>\n",
       "    </tr>\n",
       "    <tr>\n",
       "      <th>1</th>\n",
       "      <td>6848</td>\n",
       "      <td>Only 2 stops to Manhattan studio</td>\n",
       "      <td>15991</td>\n",
       "      <td>Allen &amp; Irina</td>\n",
       "      <td>Brooklyn</td>\n",
       "      <td>Williamsburg</td>\n",
       "      <td>40.70935</td>\n",
       "      <td>-73.95342</td>\n",
       "      <td>Entire home/apt</td>\n",
       "      <td>81.0</td>\n",
       "      <td>30</td>\n",
       "      <td>195</td>\n",
       "      <td>2024-10-05 00:00:00</td>\n",
       "      <td>1.03</td>\n",
       "      <td>1</td>\n",
       "      <td>196</td>\n",
       "      <td>4</td>\n",
       "      <td>No License</td>\n",
       "    </tr>\n",
       "    <tr>\n",
       "      <th>2</th>\n",
       "      <td>6872</td>\n",
       "      <td>Uptown Sanctuary w/ Private Bath (Month to Month)</td>\n",
       "      <td>16104</td>\n",
       "      <td>Kahshanna</td>\n",
       "      <td>Manhattan</td>\n",
       "      <td>East Harlem</td>\n",
       "      <td>40.80107</td>\n",
       "      <td>-73.94255</td>\n",
       "      <td>Private room</td>\n",
       "      <td>65.0</td>\n",
       "      <td>30</td>\n",
       "      <td>1</td>\n",
       "      <td>2022-06-05 00:00:00</td>\n",
       "      <td>0.03</td>\n",
       "      <td>2</td>\n",
       "      <td>83</td>\n",
       "      <td>0</td>\n",
       "      <td>No License</td>\n",
       "    </tr>\n",
       "    <tr>\n",
       "      <th>3</th>\n",
       "      <td>6990</td>\n",
       "      <td>UES Beautiful Blue Room</td>\n",
       "      <td>16800</td>\n",
       "      <td>Cyn</td>\n",
       "      <td>Manhattan</td>\n",
       "      <td>East Harlem</td>\n",
       "      <td>40.78778</td>\n",
       "      <td>-73.94759</td>\n",
       "      <td>Private room</td>\n",
       "      <td>70.0</td>\n",
       "      <td>30</td>\n",
       "      <td>251</td>\n",
       "      <td>2024-12-01 00:00:00</td>\n",
       "      <td>1.36</td>\n",
       "      <td>1</td>\n",
       "      <td>8</td>\n",
       "      <td>5</td>\n",
       "      <td>No License</td>\n",
       "    </tr>\n",
       "    <tr>\n",
       "      <th>5</th>\n",
       "      <td>7097</td>\n",
       "      <td>Perfect for Your Parents, With Garden &amp; Patio</td>\n",
       "      <td>17571</td>\n",
       "      <td>Jane</td>\n",
       "      <td>Brooklyn</td>\n",
       "      <td>Fort Greene</td>\n",
       "      <td>40.69194</td>\n",
       "      <td>-73.97389</td>\n",
       "      <td>Private room</td>\n",
       "      <td>205.0</td>\n",
       "      <td>2</td>\n",
       "      <td>395</td>\n",
       "      <td>2024-12-21 00:00:00</td>\n",
       "      <td>2.17</td>\n",
       "      <td>2</td>\n",
       "      <td>261</td>\n",
       "      <td>36</td>\n",
       "      <td>OSE-STRREG-0000008</td>\n",
       "    </tr>\n",
       "  </tbody>\n",
       "</table>\n",
       "</div>"
      ],
      "text/plain": [
       "     id                                               name  host_id  \\\n",
       "0  2595                    Skylit Midtown Castle Sanctuary     2845   \n",
       "1  6848                   Only 2 stops to Manhattan studio    15991   \n",
       "2  6872  Uptown Sanctuary w/ Private Bath (Month to Month)    16104   \n",
       "3  6990                            UES Beautiful Blue Room    16800   \n",
       "5  7097      Perfect for Your Parents, With Garden & Patio    17571   \n",
       "\n",
       "       host_name neighbourhood_group neighbourhood  latitude  longitude  \\\n",
       "0       Jennifer           Manhattan       Midtown  40.75356  -73.98559   \n",
       "1  Allen & Irina            Brooklyn  Williamsburg  40.70935  -73.95342   \n",
       "2      Kahshanna           Manhattan   East Harlem  40.80107  -73.94255   \n",
       "3            Cyn           Manhattan   East Harlem  40.78778  -73.94759   \n",
       "5           Jane            Brooklyn   Fort Greene  40.69194  -73.97389   \n",
       "\n",
       "         room_type  price  minimum_nights  number_of_reviews  \\\n",
       "0  Entire home/apt  240.0              30                 49   \n",
       "1  Entire home/apt   81.0              30                195   \n",
       "2     Private room   65.0              30                  1   \n",
       "3     Private room   70.0              30                251   \n",
       "5     Private room  205.0               2                395   \n",
       "\n",
       "           last_review  reviews_per_month  calculated_host_listings_count  \\\n",
       "0  2022-06-21 00:00:00               0.27                               3   \n",
       "1  2024-10-05 00:00:00               1.03                               1   \n",
       "2  2022-06-05 00:00:00               0.03                               2   \n",
       "3  2024-12-01 00:00:00               1.36                               1   \n",
       "5  2024-12-21 00:00:00               2.17                               2   \n",
       "\n",
       "   availability_365  number_of_reviews_ltm             license  \n",
       "0               365                      0          No License  \n",
       "1               196                      4          No License  \n",
       "2                83                      0          No License  \n",
       "3                 8                      5          No License  \n",
       "5               261                     36  OSE-STRREG-0000008  "
      ]
     },
     "execution_count": 11,
     "metadata": {},
     "output_type": "execute_result"
    }
   ],
   "source": [
    "df.head()"
   ]
  },
  {
   "cell_type": "code",
   "execution_count": 12,
   "metadata": {
    "colab": {
     "base_uri": "https://localhost:8080/",
     "height": 648
    },
    "executionInfo": {
     "elapsed": 39,
     "status": "ok",
     "timestamp": 1739990440420,
     "user": {
      "displayName": "Laurynn Coleman",
      "userId": "11156261408880543970"
     },
     "user_tz": 300
    },
    "id": "RI3t8eFGrjot",
    "outputId": "b0a9ed95-fa01-4cc8-9b98-5935ec85473c"
   },
   "outputs": [
    {
     "data": {
      "text/plain": [
       "id                                0\n",
       "name                              0\n",
       "host_id                           0\n",
       "host_name                         0\n",
       "neighbourhood_group               0\n",
       "neighbourhood                     0\n",
       "latitude                          0\n",
       "longitude                         0\n",
       "room_type                         0\n",
       "price                             0\n",
       "minimum_nights                    0\n",
       "number_of_reviews                 0\n",
       "last_review                       0\n",
       "reviews_per_month                 0\n",
       "calculated_host_listings_count    0\n",
       "availability_365                  0\n",
       "number_of_reviews_ltm             0\n",
       "license                           0\n",
       "dtype: int64"
      ]
     },
     "execution_count": 12,
     "metadata": {},
     "output_type": "execute_result"
    }
   ],
   "source": [
    "df.isnull().sum()"
   ]
  },
  {
   "cell_type": "markdown",
   "metadata": {
    "id": "p2nPheRAVvcK"
   },
   "source": [
    "### All of the null values are handled.  Now it is time to create visualizations in PowerBI."
   ]
  },
  {
   "cell_type": "code",
   "execution_count": 16,
   "metadata": {
    "executionInfo": {
     "elapsed": 9976,
     "status": "ok",
     "timestamp": 1739992383566,
     "user": {
      "displayName": "Laurynn Coleman",
      "userId": "11156261408880543970"
     },
     "user_tz": 300
    },
    "id": "tC9SybmPrje6"
   },
   "outputs": [],
   "source": [
    "# Saving dataframe\n",
    "df.to_excel('C:/Users/laurc/OneDrive/Documents/Portfolio/ny_airbnb_analysis/listing_clean.xlsx', index=False)"
   ]
  },
  {
   "cell_type": "code",
   "execution_count": null,
   "metadata": {
    "id": "mmSajBVArjWe"
   },
   "outputs": [],
   "source": []
  },
  {
   "cell_type": "code",
   "execution_count": null,
   "metadata": {
    "id": "WqBZ_Y-nrjUC"
   },
   "outputs": [],
   "source": []
  },
  {
   "cell_type": "code",
   "execution_count": null,
   "metadata": {
    "id": "g93PtyrPrjRP"
   },
   "outputs": [],
   "source": []
  },
  {
   "cell_type": "code",
   "execution_count": null,
   "metadata": {
    "id": "fq1yJoJirjOj"
   },
   "outputs": [],
   "source": []
  },
  {
   "cell_type": "code",
   "execution_count": null,
   "metadata": {
    "id": "ulJbxGx4rjMQ"
   },
   "outputs": [],
   "source": []
  },
  {
   "cell_type": "code",
   "execution_count": null,
   "metadata": {
    "id": "X4uLy01CrjJf"
   },
   "outputs": [],
   "source": []
  },
  {
   "cell_type": "code",
   "execution_count": null,
   "metadata": {
    "id": "8pBzFpvnrjHK"
   },
   "outputs": [],
   "source": []
  },
  {
   "cell_type": "code",
   "execution_count": null,
   "metadata": {
    "id": "iIGMbKDgrjD3"
   },
   "outputs": [],
   "source": []
  }
 ],
 "metadata": {
  "colab": {
   "authorship_tag": "ABX9TyOI0ExN6jifaMzIbhRHSvKo",
   "provenance": []
  },
  "kernelspec": {
   "display_name": "Python 3 (ipykernel)",
   "language": "python",
   "name": "python3"
  },
  "language_info": {
   "codemirror_mode": {
    "name": "ipython",
    "version": 3
   },
   "file_extension": ".py",
   "mimetype": "text/x-python",
   "name": "python",
   "nbconvert_exporter": "python",
   "pygments_lexer": "ipython3",
   "version": "3.11.5"
  }
 },
 "nbformat": 4,
 "nbformat_minor": 4
}
